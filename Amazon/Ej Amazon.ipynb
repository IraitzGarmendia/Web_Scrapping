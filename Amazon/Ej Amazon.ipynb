{
 "cells": [
  {
   "cell_type": "markdown",
   "metadata": {},
   "source": [
    "### Hacer que eres un usuario"
   ]
  },
  {
   "cell_type": "code",
   "execution_count": 1,
   "metadata": {},
   "outputs": [],
   "source": [
    "usuario_fake = ({'User-Agent':'Mozilla/5.0 (X11; Linux x86_64) AppleWebKit/537.36 (KHTML, like Gecko) Chrome/44.0.2403.157 Safari/537.36','Accept-Language': 'es-ES, es;q=0.5'})"
   ]
  },
  {
   "cell_type": "code",
   "execution_count": 2,
   "metadata": {},
   "outputs": [],
   "source": [
    "import requests\n",
    "import bs4\n",
    "import pandas as pd\n",
    "import csv"
   ]
  },
  {
   "cell_type": "code",
   "execution_count": 3,
   "metadata": {},
   "outputs": [],
   "source": [
    "#Pegar la url de amazon gorros\n",
    "URL = \"https://www.amazon.com/s?k=gorros&crid=22JB1LSDV7DJV&sprefix=gorros%2Caps%2C193&ref=nb_sb_noss_2\""
   ]
  },
  {
   "cell_type": "code",
   "execution_count": 4,
   "metadata": {},
   "outputs": [],
   "source": [
    "#Entrar en URL como usuario usuario_fake\n",
    "amazon = requests.get(URL, headers=usuario_fake)\n"
   ]
  },
  {
   "cell_type": "code",
   "execution_count": 5,
   "metadata": {},
   "outputs": [
    {
     "data": {
      "text/plain": [
       "<Response [503]>"
      ]
     },
     "execution_count": 5,
     "metadata": {},
     "output_type": "execute_result"
    }
   ],
   "source": [
    "amazon "
   ]
  },
  {
   "cell_type": "code",
   "execution_count": 6,
   "metadata": {},
   "outputs": [],
   "source": [
    "sopa = bs4.BeautifulSoup(amazon.content, features=\"lxml\")\n"
   ]
  },
  {
   "cell_type": "code",
   "execution_count": 7,
   "metadata": {},
   "outputs": [
    {
     "data": {
      "text/plain": [
       "[]"
      ]
     },
     "execution_count": 7,
     "metadata": {},
     "output_type": "execute_result"
    }
   ],
   "source": [
    "#Span es la separacion de los codigos que hay\n",
    "sopa.findAll(\"span\")"
   ]
  },
  {
   "cell_type": "markdown",
   "metadata": {},
   "source": [
    "# Scripts para Amazon\n"
   ]
  },
  {
   "cell_type": "code",
   "execution_count": null,
   "metadata": {},
   "outputs": [],
   "source": [
    "from bs4 import BeautifulSoup\n",
    "import requests\n",
    "import csv\n",
    "\n",
    "\n",
    "def get_title(sopa):\n",
    "    try:\n",
    "        title = sopa.find(\"span\", attrs={\"id\":'productTitle'}).string.strip()\n",
    "    except AttributeError:\n",
    "        return \"\"    \n",
    "    return title\n",
    "\n",
    "def get_price(sopa):\n",
    "    try:\n",
    "        price = sopa.find(\"span\", attrs={'class':'a-offscreen'}).string.strip()\n",
    "    except AttributeError:\n",
    "        try:\n",
    "            price = sopa.find(\"span\", attrs={'id':'priceblock_dealprice'}).string.strip()\n",
    "        except:     \n",
    "            return \"\"  \n",
    "    return price\n",
    "\n",
    "def get_rating(sopa):\n",
    "    try:\n",
    "        rating = sopa.find(\"i\", attrs={'class':'a-icon a-icon-star a-star-4-5'}).string.strip()\n",
    "    except AttributeError:\n",
    "        try:\n",
    "            rating = sopa.find(\"span\", attrs={'class':'a-icon-alt'}).string.strip()\n",
    "        except:\n",
    "            return \"\"\n",
    "    return rating\n",
    "\n",
    "def get_review_count(sopa):\n",
    "    try:\n",
    "        review_count = sopa.find(\"span\", attrs={'id':'acrCustomerReviewText'}).string.strip()\n",
    "    except AttributeError:\n",
    "        return \"\"\n",
    "    return review_count\n",
    "\n",
    "def get_availability(sopa):\n",
    "    try:\n",
    "        available = sopa.find(\"div\", attrs={'id':'availability'}).find(\"span\").string.strip()\n",
    "    except AttributeError:\n",
    "        return \"Not Available\"\n",
    "    return available\n",
    "\n",
    "def main():\n",
    "    HEADERS = {'User-Agent': 'Mozilla/5.0 (X11; Linux x86_64) AppleWebKit/537.36 (KHTML, like Gecko) Chrome/44.0.2403.157 Safari/537.36', 'Accept-Language': 'en-US'}\n",
    "    URL = input(\" \") #Código para que sea también desde la consola\n",
    "    webpage = requests.get(URL, headers=HEADERS)\n",
    "    sopa = BeautifulSoup(webpage.content, \"lxml\")\n",
    "\n",
    "    links = sopa.find_all( \"https://www.amazon.com/s?k=gorros&crid=22JB1LSDV7DJV&sprefix=gorros%2Caps%2C193&ref=nb_sb_noss_2\", attrs={'class':'a-link-normal s-no-outline'})\n",
    "    links_list = [link.get('href') for link in links]\n",
    "\n",
    "\n",
    "    with open('amazon_product.csv', 'w', encoding=\"utf-8-sig\") as csv_file:\n",
    "        csv_writer = csv.writer(csv_file)\n",
    "        csv_writer.writerow(['Title', 'Price', 'Rating', 'ReviewCount', 'Availability'])\n",
    "\n",
    "        for link in links_list:\n",
    "            new_webpage = requests.get(\"https://www.amazon.com\" + link, headers=HEADERS)\n",
    "            new_sopa = BeautifulSoup(new_webpage.content, \"lxml\")\n",
    "\n",
    "            title = get_title(new_sopa)\n",
    "            price = get_price(new_sopa)\n",
    "            rating = get_rating(new_sopa)\n",
    "            review_count = get_review_count(new_sopa)\n",
    "            availability = get_availability(new_sopa)\n",
    "\n",
    "            print(\"Product Title =\", title)\n",
    "            print(\"Product Price =\", price)\n",
    "            print(\"Product Rating =\", rating)\n",
    "            print(\"Number of Product Reviews =\", review_count)\n",
    "            print(\"Availability =\", availability)\n",
    "            print('\\n')\n",
    "\n",
    "            # Escribe la información del producto en el archivo CSV.\n",
    "            csv_writer.writerow([title, price, rating, review_count, availability])\n",
    "\n",
    "if __name__ == '__main__':\n",
    "    main()"
   ]
  },
  {
   "cell_type": "code",
   "execution_count": 11,
   "metadata": {},
   "outputs": [],
   "source": [
    "gorros = pd.read_csv(r\"C:\\Users\\34650\\Desktop\\BOOTCAMP_CURSO\\Temario\\MODULO 1\\Web Scrapping\\Amazon\\amazon_product.csv\")\n"
   ]
  }
 ],
 "metadata": {
  "kernelspec": {
   "display_name": "Python 3",
   "language": "python",
   "name": "python3"
  },
  "language_info": {
   "codemirror_mode": {
    "name": "ipython",
    "version": 3
   },
   "file_extension": ".py",
   "mimetype": "text/x-python",
   "name": "python",
   "nbconvert_exporter": "python",
   "pygments_lexer": "ipython3",
   "version": "3.10.0"
  }
 },
 "nbformat": 4,
 "nbformat_minor": 2
}
